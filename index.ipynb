{
 "cells": [
  {
   "cell_type": "markdown",
   "metadata": {},
   "source": [
    "# Database Admin 101 - Lab\n",
    "\n",
    "## Introduction \n",
    "\n",
    "In this lab, you'll go through the process of designing and creating a database. From there, you'll begin to populate this table with mock data provided to you.\n",
    "\n",
    "## Objectives\n",
    "\n",
    "You will be able to:\n",
    "\n",
    "* Use knowledge of the structure of databases to create a database and populate it"
   ]
  },
  {
   "cell_type": "markdown",
   "metadata": {},
   "source": [
    "## The Scenario\n",
    "\n",
    "You are looking to design a database for a school that will house various information from student grades to contact information, class roster lists and attendance. First, think of how you would design such a database. What tables would you include? What columns would each table have? What would be the primary means to join said tables?"
   ]
  },
  {
   "cell_type": "markdown",
   "metadata": {},
   "source": [
    "## Creating the Database\n",
    "\n",
    "Now that you've put a little thought into how you might design your database, it's time to go ahead and create it! Start by import the necessary packages. Then, create a database called **school.sqlite**."
   ]
  },
  {
   "cell_type": "code",
   "execution_count": 6,
   "metadata": {},
   "outputs": [],
   "source": [
    "# Import necessary packages\n",
    "import sqlite3"
   ]
  },
  {
   "cell_type": "code",
   "execution_count": 7,
   "metadata": {},
   "outputs": [],
   "source": [
    "# Create the database school.sqlite \n",
    "conn = sqlite3.connect('school.sqlite.db')\n",
    "cur = conn.cursor()"
   ]
  },
  {
   "cell_type": "markdown",
   "metadata": {},
   "source": [
    "## Create a Table for Contact Information\n",
    "\n",
    "Create a table called contactInfo to house contact information for both students and staff. Be sure to include columns for first name, last name, role (student/staff), telephone number, street, city, state, and zipcode. Be sure to also create a primary key for the table. "
   ]
  },
  {
   "cell_type": "code",
   "execution_count": 11,
   "metadata": {},
   "outputs": [
    {
     "data": {
      "text/plain": [
       "<sqlite3.Cursor at 0x7f95c8c4e260>"
      ]
     },
     "execution_count": 11,
     "metadata": {},
     "output_type": "execute_result"
    }
   ],
   "source": [
    "# Your code here\n",
    "cur.execute(\"\"\"\n",
    "    CREATE TABLE contactInfom (\n",
    "        id INTEGER PRIMARY KEY,\n",
    "        firstName TEXT,\n",
    "        lastName TEXT,\n",
    "        role TEXT,\n",
    "        telephone TEXT, -- or INTEGER, depending on your preference\n",
    "        street TEXT,\n",
    "        city TEXT,\n",
    "        state TEXT,\n",
    "        zipcode INTEGER\n",
    "    )\n",
    "\"\"\")\n"
   ]
  },
  {
   "cell_type": "markdown",
   "metadata": {},
   "source": [
    "## Populate the Table\n",
    "\n",
    "Below, code is provided for you in order to load a list of dictionaries. Briefly examine the list. Each dictionary in the list will serve as an entry for your contact info table. Once you've briefly investigated the structure of this data, write a for loop to iterate through the list and create an entry in your table for each person's contact info."
   ]
  },
  {
   "cell_type": "code",
   "execution_count": 8,
   "metadata": {},
   "outputs": [],
   "source": [
    "# Load the list of dictionaries; just run this cell\n",
    "import pickle\n",
    "\n",
    "with open('contact_list.pickle', 'rb') as f:\n",
    "    contacts = pickle.load(f)"
   ]
  },
  {
   "cell_type": "code",
   "execution_count": 9,
   "metadata": {},
   "outputs": [
    {
     "data": {
      "text/plain": [
       "<sqlite3.Cursor at 0x7fb5cd1d36c0>"
      ]
     },
     "execution_count": 9,
     "metadata": {},
     "output_type": "execute_result"
    }
   ],
   "source": [
    "# Iterate over the contact list and populate the contactInfo table here\n",
    "\n",
    "# Insert rows into the contactInfo tabls\n",
    "\n",
    "cur.execute('''INSERT INTO contactInfom (firstName, lastName, role, telephone, street, city, state, zipcode) \n",
    "               VALUES ('Christine', 'Holden', 'staff', '2035687697', '1672 Whitman Court', 'Stamford', 'CT', 06995)''')\n",
    "\n",
    "cur.execute('''INSERT INTO contactInfom (firstName, lastName, role, telephone, street, city, state, zipcode)\n",
    "               VALUES('Christopher', 'Warren', 'student', '2175150957', '1935 University Hill Road', 'Champaign', 'IL', 61938)''')\n",
    "\n",
    "cur.execute('''INSERT INTO contactInfom (firstName, lastName, role, telephone, street, city, state, zipcode)\n",
    "               VALUES('Linda', 'Jacobson', 'staff', '4049446441', '479 Musgrave Street', 'Atlanta', 'GA', 30303)''')\n",
    "\n",
    "cur.execute('''INSERT INTO contactInfom (firstName, lastName, role, telephone, street, city, state, zipcode)\n",
    "               VALUES('Andrew', 'Step', 'student', '7866419252', '2981 Lamberts', 'Hialeah', 'FL', 33012)''')\n",
    "\n",
    "cur.execute('''INSERT INTO contactInfom (firstName, lastName, role, telephone, street, city, state, zipcode)\n",
    "               VALUES('Jane', 'Evans', 'student', '3259909290', '1461 Briarhill Lane', 'Abilene', 'TX', 79602)''')\n",
    "\n",
    "cur.execute('''INSERT INTO contactInfom (firstName, lastName, role, telephone, street, city, state, zipcode)\n",
    "               VALUES('Mary', 'Raines', 'student', '9075772295', '3975 Jerry Toth Drive', 'Ninilnchik', 'AK', 99639)''')\n",
    "\n",
    "cur.execute('''INSERT INTO contactInfom (firstName, lastName, role, telephone, street, city, state, zipcode)\n",
    "               VALUES('Ed', 'Lyman', 'student', '5179695576', '3478 Be Street', 'Lansing', 'MI', 48933)''')\n",
    "\n"
   ]
  },
  {
   "cell_type": "markdown",
   "metadata": {},
   "source": [
    "**Query the Table to Ensure it is populated**"
   ]
  },
  {
   "cell_type": "code",
   "execution_count": 10,
   "metadata": {},
   "outputs": [
    {
     "name": "stdout",
     "output_type": "stream",
     "text": [
      "(1, 'Christine', 'Holden', 'staff', '2035687697', '1672 Whitman Court', 'Stamford', 'CT', 6995)\n",
      "(2, 'Christopher', 'Warren', 'student', '2175150957', '1935 University Hill Road', 'Champaign', 'IL', 61938)\n",
      "(3, 'Linda', 'Jacobson', 'staff', '4049446441', '479 Musgrave Street', 'Atlanta', 'GA', 30303)\n",
      "(4, 'Andrew', 'Step', 'student', '7866419252', '2981 Lamberts', 'Hialeah', 'FL', 33012)\n",
      "(5, 'Jane', 'Evans', 'student', '3259909290', '1461 Briarhill Lane', 'Abilene', 'TX', 79602)\n",
      "(6, 'Mary', 'Raines', 'student', '9075772295', '3975 Jerry Toth Drive', 'Ninilnchik', 'AK', 99639)\n",
      "(7, 'Ed', 'Lyman', 'student', '5179695576', '2910 Simpson Avenue', 'York', 'PA', 17403)\n",
      "(8, 'Christine', 'Holden', 'staff', '2035687697', '1672 Whitman Court', 'Stamford', 'CT', 6995)\n",
      "(9, 'Christopher', 'Warren', 'student', '2175150957', '1935 University Hill Road', 'Champaign', 'IL', 61938)\n",
      "(10, 'Linda', 'Jacobson', 'staff', '4049446441', '479 Musgrave Street', 'Atlanta', 'GA', 30303)\n",
      "(11, 'Andrew', 'Step', 'student', '7866419252', '2981 Lamberts', 'Hialeah', 'FL', 33012)\n",
      "(12, 'Jane', 'Evans', 'student', '3259909290', '1461 Briarhill Lane', 'Abilene', 'TX', 79602)\n",
      "(13, 'Mary', 'Raines', 'student', '9075772295', '3975 Jerry Toth Drive', 'Ninilnchik', 'AK', 99639)\n",
      "(14, 'Ed', 'Lyman', 'student', '5179695576', '3478 Be Street', 'Lansing', 'MI', 48933)\n"
     ]
    }
   ],
   "source": [
    "# Your code here \n",
    "cur.execute(\"SELECT * FROM contactInfom\")\n",
    "rows = cur.fetchall()\n",
    "for row in rows:\n",
    "    print(row)"
   ]
  },
  {
   "cell_type": "markdown",
   "metadata": {},
   "source": [
    "## Commit Your Changes to the Database\n",
    "\n",
    "Persist your changes by committing them to the database."
   ]
  },
  {
   "cell_type": "code",
   "execution_count": 11,
   "metadata": {},
   "outputs": [],
   "source": [
    "# Your code here\n",
    "conn.commit()"
   ]
  },
  {
   "cell_type": "markdown",
   "metadata": {},
   "source": [
    "## Create a Table for Student Grades\n",
    "\n",
    "Create a new table in the database called \"grades\". In the table, include the following fields: userId, courseId, grade.\n",
    "\n",
    "** This problem is a bit more tricky and will require a dual key. (A nuance you have yet to see.)\n",
    "Here's how to do that:\n",
    "\n",
    "```SQL\n",
    "CREATE TABLE table_name(\n",
    "   column_1 INTEGER NOT NULL,\n",
    "   column_2 INTEGER NOT NULL,\n",
    "   ...\n",
    "   PRIMARY KEY(column_1,column_2,...)\n",
    ");\n",
    "```"
   ]
  },
  {
   "cell_type": "code",
   "execution_count": 12,
   "metadata": {},
   "outputs": [
    {
     "ename": "OperationalError",
     "evalue": "table grades already exists",
     "output_type": "error",
     "traceback": [
      "\u001b[0;31m---------------------------------------------------------------------------\u001b[0m",
      "\u001b[0;31mOperationalError\u001b[0m                          Traceback (most recent call last)",
      "Cell \u001b[0;32mIn[12], line 2\u001b[0m\n\u001b[1;32m      1\u001b[0m \u001b[38;5;66;03m# Create the grades table\u001b[39;00m\n\u001b[0;32m----> 2\u001b[0m \u001b[43mcur\u001b[49m\u001b[38;5;241;43m.\u001b[39;49m\u001b[43mexecute\u001b[49m\u001b[43m(\u001b[49m\u001b[38;5;124;43m'''\u001b[39;49m\n\u001b[1;32m      3\u001b[0m \u001b[38;5;124;43m    CREATE TABLE grades (\u001b[39;49m\n\u001b[1;32m      4\u001b[0m \u001b[38;5;124;43m        userId INTEGER NOT NULL,\u001b[39;49m\n\u001b[1;32m      5\u001b[0m \u001b[38;5;124;43m        courseId INTEGER NOT NULL,\u001b[39;49m\n\u001b[1;32m      6\u001b[0m \u001b[38;5;124;43m        grade TEXT,\u001b[39;49m\n\u001b[1;32m      7\u001b[0m \u001b[38;5;124;43m        PRIMARY KEY(userId, courseId)\u001b[39;49m\n\u001b[1;32m      8\u001b[0m \u001b[38;5;124;43m    )\u001b[39;49m\n\u001b[1;32m      9\u001b[0m \u001b[38;5;124;43m'''\u001b[39;49m\u001b[43m)\u001b[49m\n",
      "\u001b[0;31mOperationalError\u001b[0m: table grades already exists"
     ]
    }
   ],
   "source": [
    "# Create the grades table\n",
    "cur.execute('''\n",
    "    CREATE TABLE grades (\n",
    "        userId INTEGER NOT NULL,\n",
    "        courseId INTEGER NOT NULL,\n",
    "        grade TEXT,\n",
    "        PRIMARY KEY(userId, courseId)\n",
    "    )\n",
    "''')"
   ]
  },
  {
   "cell_type": "markdown",
   "metadata": {},
   "source": [
    "## Remove Duplicate Entries\n",
    "\n",
    "An analyst just realized that there is a duplicate entry in the contactInfo table! Find and remove it."
   ]
  },
  {
   "cell_type": "code",
   "execution_count": 13,
   "metadata": {},
   "outputs": [
    {
     "data": {
      "text/plain": [
       "<sqlite3.Cursor at 0x7fb5cd1d36c0>"
      ]
     },
     "execution_count": 13,
     "metadata": {},
     "output_type": "execute_result"
    }
   ],
   "source": [
    "# Find the duplicate entry\n",
    "cur.execute('''\n",
    "SELECT firstName, lastName, role, telephone, street, city, state, zipcode, COUNT(*) as cnt\n",
    "FROM contactInfom\n",
    "GROUP BY firstName, lastName, role, telephone, street, city, state, zipcode\n",
    "HAVING cnt > 1;\n",
    "''')\n"
   ]
  },
  {
   "cell_type": "code",
   "execution_count": 14,
   "metadata": {},
   "outputs": [
    {
     "data": {
      "text/plain": [
       "<sqlite3.Cursor at 0x7fb5cd1d36c0>"
      ]
     },
     "execution_count": 14,
     "metadata": {},
     "output_type": "execute_result"
    }
   ],
   "source": [
    "# Delete the duplicate entry\n",
    "cur.execute('''\n",
    "SELECT firstName, lastName, role, telephone, street, city, state, zipcode, COUNT(*) as count\n",
    "FROM contactInfom\n",
    "GROUP BY firstName, lastName, role, telephone, street, city, state, zipcode\n",
    "HAVING COUNT(*) > 1;\n",
    "''')"
   ]
  },
  {
   "cell_type": "code",
   "execution_count": 15,
   "metadata": {},
   "outputs": [
    {
     "data": {
      "text/plain": [
       "<sqlite3.Cursor at 0x7fb5cd1d36c0>"
      ]
     },
     "execution_count": 15,
     "metadata": {},
     "output_type": "execute_result"
    }
   ],
   "source": [
    "# Check that the duplicate entry was removed\n",
    "cur.execute('''\n",
    "SELECT COUNT(*) FROM contactInfom;\n",
    "\n",
    "''')"
   ]
  },
  {
   "cell_type": "markdown",
   "metadata": {},
   "source": [
    "## Updating an Address\n",
    "\n",
    "Ed Lyman just moved to `2910 Simpson Avenue York, PA 17403`. Update his address accordingly."
   ]
  },
  {
   "cell_type": "code",
   "execution_count": 16,
   "metadata": {},
   "outputs": [
    {
     "data": {
      "text/plain": [
       "<sqlite3.Cursor at 0x7fb5cd1d36c0>"
      ]
     },
     "execution_count": 16,
     "metadata": {},
     "output_type": "execute_result"
    }
   ],
   "source": [
    "# Update Ed's address\n",
    "cur.execute(\"\"\"UPDATE contactInfom\n",
    "SET street = '2910 Simpson Avenue', city = 'York', state = 'PA', zipcode = 17403\n",
    "WHERE firstName = 'Ed' AND lastName = 'Lyman';\n",
    "\"\"\")"
   ]
  },
  {
   "cell_type": "code",
   "execution_count": 17,
   "metadata": {},
   "outputs": [
    {
     "name": "stdout",
     "output_type": "stream",
     "text": [
      "(1, 'Christine', 'Holden', 'staff', '2035687697', '1672 Whitman Court', 'Stamford', 'CT', 6995)\n",
      "(2, 'Christopher', 'Warren', 'student', '2175150957', '1935 University Hill Road', 'Champaign', 'IL', 61938)\n",
      "(3, 'Linda', 'Jacobson', 'staff', '4049446441', '479 Musgrave Street', 'Atlanta', 'GA', 30303)\n",
      "(4, 'Andrew', 'Step', 'student', '7866419252', '2981 Lamberts', 'Hialeah', 'FL', 33012)\n",
      "(5, 'Jane', 'Evans', 'student', '3259909290', '1461 Briarhill Lane', 'Abilene', 'TX', 79602)\n",
      "(6, 'Mary', 'Raines', 'student', '9075772295', '3975 Jerry Toth Drive', 'Ninilnchik', 'AK', 99639)\n",
      "(7, 'Ed', 'Lyman', 'student', '5179695576', '2910 Simpson Avenue', 'York', 'PA', 17403)\n",
      "(8, 'Christine', 'Holden', 'staff', '2035687697', '1672 Whitman Court', 'Stamford', 'CT', 6995)\n",
      "(9, 'Christopher', 'Warren', 'student', '2175150957', '1935 University Hill Road', 'Champaign', 'IL', 61938)\n",
      "(10, 'Linda', 'Jacobson', 'staff', '4049446441', '479 Musgrave Street', 'Atlanta', 'GA', 30303)\n",
      "(11, 'Andrew', 'Step', 'student', '7866419252', '2981 Lamberts', 'Hialeah', 'FL', 33012)\n",
      "(12, 'Jane', 'Evans', 'student', '3259909290', '1461 Briarhill Lane', 'Abilene', 'TX', 79602)\n",
      "(13, 'Mary', 'Raines', 'student', '9075772295', '3975 Jerry Toth Drive', 'Ninilnchik', 'AK', 99639)\n",
      "(14, 'Ed', 'Lyman', 'student', '5179695576', '2910 Simpson Avenue', 'York', 'PA', 17403)\n"
     ]
    }
   ],
   "source": [
    "# Query the database to ensure the change was made\n",
    "# Query the database to ensure the change was made\n",
    "rows = cur.execute('''SELECT * FROM contactInfom;''').fetchall()\n",
    "\n",
    "# Print each row\n",
    "for row in rows:\n",
    "    print(row)\n"
   ]
  },
  {
   "cell_type": "markdown",
   "metadata": {},
   "source": [
    "## Commit Your Changes to the Database\n",
    "\n",
    "Once again, persist your changes by committing them to the database."
   ]
  },
  {
   "cell_type": "code",
   "execution_count": 18,
   "metadata": {},
   "outputs": [],
   "source": [
    "# Your code here\n",
    "conn.commit()"
   ]
  },
  {
   "cell_type": "markdown",
   "metadata": {},
   "source": [
    "## Summary\n",
    "\n",
    "While there's certainly more to do with setting up and managing this database, you got a taste for creating, populating, and maintaining databases! Feel free to continue fleshing out this exercise for more practice. "
   ]
  }
 ],
 "metadata": {
  "kernelspec": {
   "display_name": "Python 3 (ipykernel)",
   "language": "python",
   "name": "python3"
  },
  "language_info": {
   "codemirror_mode": {
    "name": "ipython",
    "version": 3
   },
   "file_extension": ".py",
   "mimetype": "text/x-python",
   "name": "python",
   "nbconvert_exporter": "python",
   "pygments_lexer": "ipython3",
   "version": "3.8.5"
  },
  "toc": {
   "base_numbering": 1,
   "nav_menu": {},
   "number_sections": true,
   "sideBar": true,
   "skip_h1_title": false,
   "title_cell": "Table of Contents",
   "title_sidebar": "Contents",
   "toc_cell": false,
   "toc_position": {},
   "toc_section_display": true,
   "toc_window_display": false
  }
 },
 "nbformat": 4,
 "nbformat_minor": 2
}
